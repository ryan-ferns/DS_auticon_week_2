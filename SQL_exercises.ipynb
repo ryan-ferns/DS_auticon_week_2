{
 "cells": [
  {
   "cell_type": "markdown",
   "metadata": {},
   "source": [
    "## We will be working with database chinook.db\n",
    "You can download it here: https://drive.google.com/file/d/0Bz9_0VdXvv9bWUtqM0NBYzhKZ3c/view?usp=sharing\n",
    "\n",
    "The\tChinook\tDatabase is\tabout an imaginary video and music store. Each track is\tstored using one of\tthe digital formats and\thas\ta genre. The store has also\tsome playlists,\twhere a single track can be\tpart of several\tplaylists. Orders are recorded\tfor\tcustomers, but are called invoices. Every customer is assigned a support employee, and Employees report to other employees."
   ]
  },
  {
   "cell_type": "markdown",
   "metadata": {},
   "source": [
    "### How to connect Python to database\n",
    "In the begining of this exercise we are going to show we can work with the databases inside the Python. We will connect this notebook to the `chinook.db` file we have downloaded earlier."
   ]
  },
  {
   "cell_type": "markdown",
   "metadata": {},
   "source": [
    "<img src=\"chinook.jpeg\" alt=\"Drawing\" style=\"width: 600px;\"/>"
   ]
  },
  {
   "cell_type": "code",
   "execution_count": 1,
   "metadata": {},
   "outputs": [],
   "source": [
    "import sqlite3\n",
    "conn = sqlite3.connect(\"chinook.db\") # the chinook file has to be in the same directory as our notebook"
   ]
  },
  {
   "cell_type": "code",
   "execution_count": 2,
   "metadata": {},
   "outputs": [
    {
     "name": "stdout",
     "output_type": "stream",
     "text": [
      "[(1, 'AC/DC'), (2, 'Accept'), (3, 'Aerosmith'), (4, 'Alanis Morissette'), (5, 'Alice In Chains')]\n"
     ]
    }
   ],
   "source": [
    "cur = conn.cursor()\n",
    "cur.execute(\"select * from artists limit 5;\")\n",
    "results = cur.fetchall()\n",
    "print(results)"
   ]
  },
  {
   "cell_type": "markdown",
   "metadata": {},
   "source": [
    "- each row is represented as 1 item in the list\n",
    "- each row consists of tuple with number of items equal to number of columns in the table `artists`"
   ]
  },
  {
   "cell_type": "code",
   "execution_count": 2,
   "metadata": {},
   "outputs": [],
   "source": [
    "# Before we move on, it’s good practice to close Connection objects and Cursor objects that are open. \n",
    "# This prevents the SQLite database from being locked.\n",
    "cur.close()\n",
    "conn.close()"
   ]
  },
  {
   "cell_type": "markdown",
   "metadata": {},
   "source": [
    "Now, we can solve simple challenges below. Feel free to use **SQLWorkbench**, the tool we connected to `chinook.db` database during the tutorial in the morning, for building the queries as well."
   ]
  },
  {
   "cell_type": "code",
   "execution_count": 2,
   "metadata": {},
   "outputs": [],
   "source": [
    "import sqlite3\n",
    "conn = sqlite3.connect(\"chinook.db\")\n",
    "cur = conn.cursor()"
   ]
  },
  {
   "cell_type": "markdown",
   "metadata": {},
   "source": [
    "### Which\tartists\tdid\tnot\tmake\tany\talbums\tat\tall?\tInclude\ttheir\tnames\tin your\tanswer."
   ]
  },
  {
   "cell_type": "code",
   "execution_count": 3,
   "metadata": {},
   "outputs": [
    {
     "name": "stdout",
     "output_type": "stream",
     "text": [
      "[('Milton Nascimento & Bebeto',), ('Azymuth',), ('João Gilberto',), ('Bebel Gilberto',), ('Jorge Vercilo',), ('Baby Consuelo',), ('Ney Matogrosso',), ('Luiz Melodia',), ('Nando Reis',), ('Pedro Luís & A Parede',), ('Banda Black Rio',), ('Fernanda Porto',), ('Os Cariocas',), ('A Cor Do Som',), ('Kid Abelha',), ('Sandra De Sá',), ('Hermeto Pascoal',), ('Barão Vermelho',), ('Edson, DJ Marky & DJ Patife Featuring Fernanda Porto',), ('Santana Feat. Dave Matthews',), ('Santana Feat. Everlast',), ('Santana Feat. Rob Thomas',), ('Santana Feat. Lauryn Hill & Cee-Lo',), ('Santana Feat. The Project G&B',), ('Santana Feat. Maná',), ('Santana Feat. Eagle-Eye Cherry',), ('Santana Feat. Eric Clapton',), ('Vinícius De Moraes & Baden Powell',), ('Vinícius E Qurteto Em Cy',), ('Vinícius E Odette Lara',), ('Vinicius, Toquinho & Quarteto Em Cy',), ('Motörhead & Girlschool',), ('Peter Tosh',), ('R.E.M. Feat. KRS-One',), ('Simply Red',), ('Whitesnake',), ('Christina Aguilera featuring BigElf',), (\"Aerosmith & Sierra Leone's Refugee Allstars\",), ('Los Lonely Boys',), ('Corinne Bailey Rae',), ('Dhani Harrison & Jakob Dylan',), ('Jackson Browne',), ('Avril Lavigne',), ('Big & Rich',), (\"Youssou N'Dour\",), ('Black Eyed Peas',), ('Jack Johnson',), ('Ben Harper',), ('Snow Patrol',), ('Matisyahu',), ('The Postal Service',), ('Jaguares',), ('The Flaming Lips',), (\"Jack's Mannequin & Mick Fleetwood\",), ('Regina Spektor',), ('Xis',), ('Nega Gizza',), ('Gustavo & Andres Veiga & Salazar',), ('Rodox',), ('Charlie Brown Jr.',), ('Pedro Luís E A Parede',), ('Los Hermanos',), ('Mundo Livre S/A',), ('Otto',), ('Instituto',), ('Nação Zumbi',), ('DJ Dolores & Orchestra Santa Massa',), ('Seu Jorge',), ('Sabotage E Instituto',), ('Stereo Maracana',), ('Academy of St. Martin in the Fields, Sir Neville Marriner & William Bennett',)]\n"
     ]
    }
   ],
   "source": [
    "cur.execute('''SELECT artists.name FROM artists \n",
    "                   WHERE artists.name NOT IN \n",
    "                       (SELECT artists.name FROM artists \n",
    "                           JOIN albums ON artists.artistid == albums.artistid);''')\n",
    "            \n",
    "results = cur.fetchall()\n",
    "print(results)"
   ]
  },
  {
   "cell_type": "markdown",
   "metadata": {},
   "source": [
    "I will do the queries in SQLWorkbench but I will write them here in text.\n"
   ]
  },
  {
   "cell_type": "markdown",
   "metadata": {},
   "source": [
    "### Which\tartists\trecorded\tany\ttracks\tof\tthe\tLatin\tgenre?"
   ]
  },
  {
   "cell_type": "markdown",
   "metadata": {},
   "source": [
    "SELECT artists.name FROM artists\n",
    "    JOIN albums \n",
    "    ON artists.artistid == albums.artistid\n",
    "    WHERE albumid IN (SELECT albumid FROM tracks\n",
    "                         WHERE genreid IN (SELECT genreid FROM genres\n",
    "                                               WHERE name = \"Latin\"))\n",
    "    GROUP BY artists.name;"
   ]
  },
  {
   "cell_type": "code",
   "execution_count": 4,
   "metadata": {},
   "outputs": [
    {
     "name": "stdout",
     "output_type": "stream",
     "text": [
      "[('Antônio Carlos Jobim',), ('Caetano Veloso',), ('Chico Buarque',), ('Chico Science & Nação Zumbi',), ('Cláudio Zoli',), ('Cássia Eller',), ('Djavan',), ('Ed Motta',), ('Elis Regina',), ('Eric Clapton',), ('Falamansa',), ('Funk Como Le Gusta',), ('Gilberto Gil',), ('Gonzaguinha',), ('Jorge Ben',), ('Jota Quest',), ('Legião Urbana',), ('Luciana Souza/Romero Lubambo',), ('Lulu Santos',), ('Marcos Valle',), ('Marisa Monte',), ('Milton Nascimento',), ('Olodum',), ('Os Paralamas Do Sucesso',), ('Tim Maia',), ('Various Artists',), ('Vinícius De Moraes',), ('Zeca Pagodinho',)]\n"
     ]
    }
   ],
   "source": [
    "cur.execute('''SELECT artists.name FROM artists\n",
    "                  JOIN albums \n",
    "                  ON artists.artistid == albums.artistid\n",
    "                  WHERE albumid IN (SELECT albumid FROM tracks\n",
    "                                       WHERE genreid IN (SELECT genreid FROM genres \n",
    "                                                            WHERE name = \"Latin\"))\n",
    "                  GROUP BY artists.name;''')\n",
    "            \n",
    "results = cur.fetchall()\n",
    "print(results)"
   ]
  },
  {
   "cell_type": "markdown",
   "metadata": {},
   "source": [
    "### Which\tvideo track\thas\tthe\tlongest\tlength?"
   ]
  },
  {
   "cell_type": "markdown",
   "metadata": {},
   "source": [
    "SELECT tracks.name, MAX(tracks.milliseconds) FROM tracks\n",
    "    JOIN media_types\n",
    "    ON tracks.mediatypeid = media_types.mediatypeid\n",
    "    WHERE tracks.mediatypeid IN (SELECT mediatypeid FROM media_types WHERE name LIKE \"%video%\");"
   ]
  },
  {
   "cell_type": "code",
   "execution_count": 5,
   "metadata": {},
   "outputs": [
    {
     "name": "stdout",
     "output_type": "stream",
     "text": [
      "[('Occupation / Precipice', 5286953)]\n"
     ]
    }
   ],
   "source": [
    "cur.execute('''SELECT tracks.name, MAX(tracks.milliseconds) FROM tracks\n",
    "                   JOIN media_types\n",
    "                   ON tracks.mediatypeid = media_types.mediatypeid\n",
    "                   WHERE tracks.mediatypeid IN \n",
    "                       (SELECT mediatypeid FROM media_types \n",
    "                           WHERE name LIKE \"%video%\");''')\n",
    "            \n",
    "results = cur.fetchall()\n",
    "print(results)"
   ]
  },
  {
   "cell_type": "markdown",
   "metadata": {},
   "source": [
    "### Find\tthe\tnames\tof\tcustomers\twho\tlive\tin\tthe\tsame\tcity\tas\tthe\ttop\temployee\t(The\tone\tnot\tmanaged\tby\tanyone)."
   ]
  },
  {
   "cell_type": "code",
   "execution_count": null,
   "metadata": {},
   "outputs": [],
   "source": [
    "SELECT firstname, lastname FROM customers\n",
    "    WHERE city IN (SELECT city FROM employees\n",
    "                       WHERE reportsto IS NULL)  "
   ]
  },
  {
   "cell_type": "code",
   "execution_count": 6,
   "metadata": {},
   "outputs": [
    {
     "name": "stdout",
     "output_type": "stream",
     "text": [
      "[('Mark', 'Philips')]\n"
     ]
    }
   ],
   "source": [
    "cur.execute('''SELECT firstname, lastname FROM customers\n",
    "                  WHERE city IN (SELECT city FROM employees\n",
    "                                    WHERE reportsto IS NULL)''')\n",
    "            \n",
    "results = cur.fetchall()\n",
    "print(results)"
   ]
  },
  {
   "cell_type": "markdown",
   "metadata": {},
   "source": [
    "### Find\tthe\tmanagers of\temployees\tsupporting\tBrazilian\tcustomers."
   ]
  },
  {
   "cell_type": "code",
   "execution_count": null,
   "metadata": {},
   "outputs": [],
   "source": [
    "SELECT employees.lastname, employees.firstname FROM employees\n",
    "    JOIN employees a\n",
    "    ON employees.employeeid = a.reportsto\n",
    "    WHERE employees.title LIKE \"%Manager%\" AND a.reportsto IN (SELECT reportsto FROM employees\n",
    "                                                                  JOIN customers\n",
    "                                                                  ON employees.employeeid = customers.supportrepid\n",
    "                                                                  WHERE customers.country = \"Brazil\"\n",
    "                                                                  GROUP BY employees.lastname)\n",
    "    GROUP BY employees.lastname;"
   ]
  },
  {
   "cell_type": "code",
   "execution_count": 7,
   "metadata": {},
   "outputs": [
    {
     "name": "stdout",
     "output_type": "stream",
     "text": [
      "[('Edwards', 'Nancy')]\n"
     ]
    }
   ],
   "source": [
    "cur.execute('''SELECT employees.lastname, employees.firstname FROM employees\n",
    "                  JOIN employees a\n",
    "                  ON employees.employeeid = a.reportsto\n",
    "                  WHERE employees.title LIKE \"%Manager%\" \n",
    "                  AND a.reportsto IN (SELECT reportsto FROM employees\n",
    "                                          JOIN customers\n",
    "                                          ON employees.employeeid = customers.supportrepid\n",
    "                                          WHERE customers.country = \"Brazil\"\n",
    "                                          GROUP BY employees.lastname)\n",
    "                  GROUP BY employees.lastname;''')\n",
    "            \n",
    "results = cur.fetchall()\n",
    "print(results)"
   ]
  },
  {
   "cell_type": "markdown",
   "metadata": {},
   "source": [
    "### Which\tplaylists\thave\tno\tLatin\ttracks?"
   ]
  },
  {
   "cell_type": "code",
   "execution_count": null,
   "metadata": {},
   "outputs": [],
   "source": [
    "SELECT playlists.playlistid, playlists.name FROM playlists\n",
    "    WHERE playlists.playlistid NOT IN (SELECT playlists.playlistid FROM playlists\n",
    "                                          JOIN playlist_track\n",
    "                                          ON playlists.playlistid = playlist_track.playlistid\n",
    "                                          JOIN tracks\n",
    "                                          ON playlist_track.trackid = tracks.trackid\n",
    "                                          WHERE genreid IN (SELECT genreid FROM genres\n",
    "                                                               WHERE name = \"Latin\"));"
   ]
  },
  {
   "cell_type": "code",
   "execution_count": 8,
   "metadata": {},
   "outputs": [
    {
     "name": "stdout",
     "output_type": "stream",
     "text": [
      "[(2, 'Movies'), (3, 'TV Shows'), (4, 'Audiobooks'), (6, 'Audiobooks'), (7, 'Movies'), (9, 'Music Videos'), (10, 'TV Shows'), (12, 'Classical'), (13, 'Classical 101 - Deep Cuts'), (14, 'Classical 101 - Next Steps'), (15, 'Classical 101 - The Basics'), (16, 'Grunge'), (17, 'Heavy Metal Classic'), (18, 'On-The-Go 1')]\n"
     ]
    }
   ],
   "source": [
    "cur.execute('''SELECT playlists.playlistid, playlists.name FROM playlists\n",
    "                  WHERE playlists.playlistid NOT IN \n",
    "                      (SELECT playlists.playlistid FROM playlists\n",
    "                          JOIN playlist_track\n",
    "                          ON playlists.playlistid = playlist_track.playlistid\n",
    "                          JOIN tracks\n",
    "                          ON playlist_track.trackid = tracks.trackid\n",
    "                          WHERE genreid IN (SELECT genreid FROM genres\n",
    "                                               WHERE name = \"Latin\"));''')\n",
    "            \n",
    "results = cur.fetchall()\n",
    "print(results)"
   ]
  },
  {
   "cell_type": "code",
   "execution_count": 9,
   "metadata": {},
   "outputs": [],
   "source": [
    "cur.close()\n",
    "conn.close()"
   ]
  },
  {
   "cell_type": "code",
   "execution_count": null,
   "metadata": {},
   "outputs": [],
   "source": []
  }
 ],
 "metadata": {
  "kernelspec": {
   "display_name": "Python 3",
   "language": "python",
   "name": "python3"
  },
  "language_info": {
   "codemirror_mode": {
    "name": "ipython",
    "version": 3
   },
   "file_extension": ".py",
   "mimetype": "text/x-python",
   "name": "python",
   "nbconvert_exporter": "python",
   "pygments_lexer": "ipython3",
   "version": "3.8.3"
  }
 },
 "nbformat": 4,
 "nbformat_minor": 4
}
