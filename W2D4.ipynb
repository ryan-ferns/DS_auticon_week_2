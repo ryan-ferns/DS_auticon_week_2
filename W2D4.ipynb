{
 "cells": [
  {
   "cell_type": "markdown",
   "metadata": {},
   "source": [
    "## API Demo in Python"
   ]
  },
  {
   "cell_type": "code",
   "execution_count": 1,
   "metadata": {},
   "outputs": [
    {
     "name": "stdout",
     "output_type": "stream",
     "text": [
      "BwvmKTKZ7XMPDV2y0AqD\n"
     ]
    }
   ],
   "source": [
    "#for HTTP request\n",
    "import requests\n",
    "\n",
    "#for environment variables\n",
    "import os\n",
    "\n",
    "apikey = 'BwvmKTKZ7XMPDV2y0AqD'\n",
    "print(apikey)"
   ]
  },
  {
   "cell_type": "code",
   "execution_count": 2,
   "metadata": {},
   "outputs": [],
   "source": [
    "# Fetch Data\n",
    "response_json_simple = requests.get('http://api.translink.ca/rttiapi/v1/stops/50624?apikey={}'.format(apikey), \n",
    "                                    headers={'accept': 'application/JSON'}).json()"
   ]
  },
  {
   "cell_type": "code",
   "execution_count": 3,
   "metadata": {},
   "outputs": [
    {
     "data": {
      "text/plain": [
       "{'StopNo': 50624,\n",
       " 'Name': 'WB ROBSON ST FS BURRARD ST',\n",
       " 'BayNo': 'N',\n",
       " 'City': 'VANCOUVER',\n",
       " 'OnStreet': 'ROBSON ST',\n",
       " 'AtStreet': 'BURRARD ST',\n",
       " 'Latitude': 49.283556,\n",
       " 'Longitude': -123.123086,\n",
       " 'WheelchairAccess': 1,\n",
       " 'Distance': -1,\n",
       " 'Routes': '005'}"
      ]
     },
     "execution_count": 3,
     "metadata": {},
     "output_type": "execute_result"
    }
   ],
   "source": [
    "response_json_simple"
   ]
  },
  {
   "cell_type": "code",
   "execution_count": 4,
   "metadata": {},
   "outputs": [
    {
     "data": {
      "text/plain": [
       "[{'RouteNo': '099',\n",
       "  'RouteName': 'COMMERCIAL-BROADWAY/UBC (B-LINE)',\n",
       "  'Direction': 'EAST',\n",
       "  'RouteMap': {'Href': 'https://nb.translink.ca/geodata/099.kmz'},\n",
       "  'Schedules': [{'Pattern': 'E1',\n",
       "    'Destination': \"COMM'L-BDWAY STN\",\n",
       "    'ExpectedLeaveTime': '11:52am',\n",
       "    'ExpectedCountdown': -1,\n",
       "    'ScheduleStatus': ' ',\n",
       "    'CancelledTrip': False,\n",
       "    'CancelledStop': False,\n",
       "    'AddedTrip': False,\n",
       "    'AddedStop': False,\n",
       "    'LastUpdate': '10:52:07 am'},\n",
       "   {'Pattern': 'E1',\n",
       "    'Destination': \"COMM'L-BDWAY STN\",\n",
       "    'ExpectedLeaveTime': '11:56am',\n",
       "    'ExpectedCountdown': 3,\n",
       "    'ScheduleStatus': '*',\n",
       "    'CancelledTrip': False,\n",
       "    'CancelledStop': False,\n",
       "    'AddedTrip': False,\n",
       "    'AddedStop': False,\n",
       "    'LastUpdate': '10:56:02 am'},\n",
       "   {'Pattern': 'E1',\n",
       "    'Destination': \"COMM'L-BDWAY STN\",\n",
       "    'ExpectedLeaveTime': '12:01pm',\n",
       "    'ExpectedCountdown': 8,\n",
       "    'ScheduleStatus': '*',\n",
       "    'CancelledTrip': False,\n",
       "    'CancelledStop': False,\n",
       "    'AddedTrip': False,\n",
       "    'AddedStop': False,\n",
       "    'LastUpdate': '11:01:08 am'},\n",
       "   {'Pattern': 'E1',\n",
       "    'Destination': \"COMM'L-BDWAY STN\",\n",
       "    'ExpectedLeaveTime': '12:05pm',\n",
       "    'ExpectedCountdown': 12,\n",
       "    'ScheduleStatus': '*',\n",
       "    'CancelledTrip': False,\n",
       "    'CancelledStop': False,\n",
       "    'AddedTrip': False,\n",
       "    'AddedStop': False,\n",
       "    'LastUpdate': '11:05:25 am'},\n",
       "   {'Pattern': 'E1',\n",
       "    'Destination': \"COMM'L-BDWAY STN\",\n",
       "    'ExpectedLeaveTime': '12:10pm',\n",
       "    'ExpectedCountdown': 17,\n",
       "    'ScheduleStatus': '*',\n",
       "    'CancelledTrip': False,\n",
       "    'CancelledStop': False,\n",
       "    'AddedTrip': False,\n",
       "    'AddedStop': False,\n",
       "    'LastUpdate': '11:10:32 am'},\n",
       "   {'Pattern': 'E1',\n",
       "    'Destination': \"COMM'L-BDWAY STN\",\n",
       "    'ExpectedLeaveTime': '12:14pm',\n",
       "    'ExpectedCountdown': 21,\n",
       "    'ScheduleStatus': '*',\n",
       "    'CancelledTrip': False,\n",
       "    'CancelledStop': False,\n",
       "    'AddedTrip': False,\n",
       "    'AddedStop': False,\n",
       "    'LastUpdate': '11:14:01 am'}]}]"
      ]
     },
     "execution_count": 4,
     "metadata": {},
     "output_type": "execute_result"
    }
   ],
   "source": [
    "# Fetch Data with additional parameter \"estimates\"\n",
    "requests.get('http://api.translink.ca/rttiapi/v1/stops/61935/estimates?apikey={}'.format(apikey),\n",
    "             headers={'accept': 'application/JSON'}).json()"
   ]
  },
  {
   "cell_type": "code",
   "execution_count": 5,
   "metadata": {},
   "outputs": [
    {
     "name": "stdout",
     "output_type": "stream",
     "text": [
      "RouteNo\n",
      "RouteName\n",
      "Direction\n",
      "RouteMap\n",
      "Schedules\n"
     ]
    }
   ],
   "source": [
    "#What if this json output is 10 times larger, and we need to at least see the high level content\n",
    "response_json = requests.get('http://api.translink.ca/rttiapi/v1/stops/61935/estimates?apikey={}'.format(apikey),\n",
    "                             headers={'accept': 'application/JSON'}).json()[0]\n",
    "for key, value in response_json.items():\n",
    "    print (key)"
   ]
  },
  {
   "cell_type": "markdown",
   "metadata": {},
   "source": [
    "Question: How would you access a nested json? For example, Schedules have a dictionary associated with it.\n",
    "\n",
    "Create a dataframe with schedules."
   ]
  },
  {
   "cell_type": "markdown",
   "metadata": {},
   "source": [
    "Going back to simpler example"
   ]
  },
  {
   "cell_type": "code",
   "execution_count": 6,
   "metadata": {},
   "outputs": [
    {
     "data": {
      "text/html": [
       "<div>\n",
       "<style scoped>\n",
       "    .dataframe tbody tr th:only-of-type {\n",
       "        vertical-align: middle;\n",
       "    }\n",
       "\n",
       "    .dataframe tbody tr th {\n",
       "        vertical-align: top;\n",
       "    }\n",
       "\n",
       "    .dataframe thead th {\n",
       "        text-align: right;\n",
       "    }\n",
       "</style>\n",
       "<table border=\"1\" class=\"dataframe\">\n",
       "  <thead>\n",
       "    <tr style=\"text-align: right;\">\n",
       "      <th></th>\n",
       "      <th>StopNo</th>\n",
       "      <th>Name</th>\n",
       "      <th>BayNo</th>\n",
       "      <th>City</th>\n",
       "      <th>OnStreet</th>\n",
       "      <th>AtStreet</th>\n",
       "      <th>Latitude</th>\n",
       "      <th>Longitude</th>\n",
       "      <th>WheelchairAccess</th>\n",
       "      <th>Distance</th>\n",
       "      <th>Routes</th>\n",
       "    </tr>\n",
       "  </thead>\n",
       "  <tbody>\n",
       "    <tr>\n",
       "      <th>0</th>\n",
       "      <td>50624</td>\n",
       "      <td>WB ROBSON ST FS BURRARD ST</td>\n",
       "      <td>N</td>\n",
       "      <td>VANCOUVER</td>\n",
       "      <td>ROBSON ST</td>\n",
       "      <td>BURRARD ST</td>\n",
       "      <td>49.2836</td>\n",
       "      <td>-123.123</td>\n",
       "      <td>1</td>\n",
       "      <td>-1</td>\n",
       "      <td>005</td>\n",
       "    </tr>\n",
       "  </tbody>\n",
       "</table>\n",
       "</div>"
      ],
      "text/plain": [
       "  StopNo                        Name BayNo       City   OnStreet    AtStreet  \\\n",
       "0  50624  WB ROBSON ST FS BURRARD ST     N  VANCOUVER  ROBSON ST  BURRARD ST   \n",
       "\n",
       "  Latitude Longitude WheelchairAccess Distance Routes  \n",
       "0  49.2836  -123.123                1       -1    005  "
      ]
     },
     "execution_count": 6,
     "metadata": {},
     "output_type": "execute_result"
    }
   ],
   "source": [
    "import pandas as pd\n",
    "response_json_simple = requests.get('http://api.translink.ca/rttiapi/v1/stops/50624?apikey={}'.format(apikey), \n",
    "                                    headers={'accept': 'application/JSON'}).json()\n",
    "response_df = pd.DataFrame.from_dict(response_json_simple, orient='index')\n",
    "response_df = response_df.T\n",
    "response_df"
   ]
  },
  {
   "cell_type": "markdown",
   "metadata": {},
   "source": [
    "Converting JSON to CSV"
   ]
  },
  {
   "cell_type": "code",
   "execution_count": 7,
   "metadata": {},
   "outputs": [],
   "source": [
    "response_df.to_csv('response_csv.csv', index=False)"
   ]
  },
  {
   "cell_type": "markdown",
   "metadata": {},
   "source": [
    "# Everything from here is just trying to answer the question and finding another way to load response_json_simple into a dataframe."
   ]
  },
  {
   "cell_type": "code",
   "execution_count": 8,
   "metadata": {},
   "outputs": [
    {
     "data": {
      "text/plain": [
       "[{'Pattern': 'E1',\n",
       "  'Destination': \"COMM'L-BDWAY STN\",\n",
       "  'ExpectedLeaveTime': '11:52am',\n",
       "  'ExpectedCountdown': -1,\n",
       "  'ScheduleStatus': ' ',\n",
       "  'CancelledTrip': False,\n",
       "  'CancelledStop': False,\n",
       "  'AddedTrip': False,\n",
       "  'AddedStop': False,\n",
       "  'LastUpdate': '10:52:07 am'},\n",
       " {'Pattern': 'E1',\n",
       "  'Destination': \"COMM'L-BDWAY STN\",\n",
       "  'ExpectedLeaveTime': '11:56am',\n",
       "  'ExpectedCountdown': 3,\n",
       "  'ScheduleStatus': '*',\n",
       "  'CancelledTrip': False,\n",
       "  'CancelledStop': False,\n",
       "  'AddedTrip': False,\n",
       "  'AddedStop': False,\n",
       "  'LastUpdate': '10:56:02 am'},\n",
       " {'Pattern': 'E1',\n",
       "  'Destination': \"COMM'L-BDWAY STN\",\n",
       "  'ExpectedLeaveTime': '12:01pm',\n",
       "  'ExpectedCountdown': 8,\n",
       "  'ScheduleStatus': '*',\n",
       "  'CancelledTrip': False,\n",
       "  'CancelledStop': False,\n",
       "  'AddedTrip': False,\n",
       "  'AddedStop': False,\n",
       "  'LastUpdate': '11:01:08 am'},\n",
       " {'Pattern': 'E1',\n",
       "  'Destination': \"COMM'L-BDWAY STN\",\n",
       "  'ExpectedLeaveTime': '12:05pm',\n",
       "  'ExpectedCountdown': 12,\n",
       "  'ScheduleStatus': '*',\n",
       "  'CancelledTrip': False,\n",
       "  'CancelledStop': False,\n",
       "  'AddedTrip': False,\n",
       "  'AddedStop': False,\n",
       "  'LastUpdate': '11:05:25 am'},\n",
       " {'Pattern': 'E1',\n",
       "  'Destination': \"COMM'L-BDWAY STN\",\n",
       "  'ExpectedLeaveTime': '12:10pm',\n",
       "  'ExpectedCountdown': 17,\n",
       "  'ScheduleStatus': '*',\n",
       "  'CancelledTrip': False,\n",
       "  'CancelledStop': False,\n",
       "  'AddedTrip': False,\n",
       "  'AddedStop': False,\n",
       "  'LastUpdate': '11:10:32 am'},\n",
       " {'Pattern': 'E1',\n",
       "  'Destination': \"COMM'L-BDWAY STN\",\n",
       "  'ExpectedLeaveTime': '12:14pm',\n",
       "  'ExpectedCountdown': 21,\n",
       "  'ScheduleStatus': '*',\n",
       "  'CancelledTrip': False,\n",
       "  'CancelledStop': False,\n",
       "  'AddedTrip': False,\n",
       "  'AddedStop': False,\n",
       "  'LastUpdate': '11:14:01 am'}]"
      ]
     },
     "execution_count": 8,
     "metadata": {},
     "output_type": "execute_result"
    }
   ],
   "source": [
    "response_json['Schedules']"
   ]
  },
  {
   "cell_type": "code",
   "execution_count": 9,
   "metadata": {},
   "outputs": [
    {
     "data": {
      "text/html": [
       "<div>\n",
       "<style scoped>\n",
       "    .dataframe tbody tr th:only-of-type {\n",
       "        vertical-align: middle;\n",
       "    }\n",
       "\n",
       "    .dataframe tbody tr th {\n",
       "        vertical-align: top;\n",
       "    }\n",
       "\n",
       "    .dataframe thead th {\n",
       "        text-align: right;\n",
       "    }\n",
       "</style>\n",
       "<table border=\"1\" class=\"dataframe\">\n",
       "  <thead>\n",
       "    <tr style=\"text-align: right;\">\n",
       "      <th></th>\n",
       "      <th>Pattern</th>\n",
       "      <th>Destination</th>\n",
       "      <th>ExpectedLeaveTime</th>\n",
       "      <th>ExpectedCountdown</th>\n",
       "      <th>ScheduleStatus</th>\n",
       "      <th>CancelledTrip</th>\n",
       "      <th>CancelledStop</th>\n",
       "      <th>AddedTrip</th>\n",
       "      <th>AddedStop</th>\n",
       "      <th>LastUpdate</th>\n",
       "    </tr>\n",
       "  </thead>\n",
       "  <tbody>\n",
       "    <tr>\n",
       "      <th>0</th>\n",
       "      <td>E1</td>\n",
       "      <td>COMM'L-BDWAY STN</td>\n",
       "      <td>11:52am</td>\n",
       "      <td>-1</td>\n",
       "      <td></td>\n",
       "      <td>False</td>\n",
       "      <td>False</td>\n",
       "      <td>False</td>\n",
       "      <td>False</td>\n",
       "      <td>10:52:07 am</td>\n",
       "    </tr>\n",
       "    <tr>\n",
       "      <th>1</th>\n",
       "      <td>E1</td>\n",
       "      <td>COMM'L-BDWAY STN</td>\n",
       "      <td>11:56am</td>\n",
       "      <td>3</td>\n",
       "      <td>*</td>\n",
       "      <td>False</td>\n",
       "      <td>False</td>\n",
       "      <td>False</td>\n",
       "      <td>False</td>\n",
       "      <td>10:56:02 am</td>\n",
       "    </tr>\n",
       "    <tr>\n",
       "      <th>2</th>\n",
       "      <td>E1</td>\n",
       "      <td>COMM'L-BDWAY STN</td>\n",
       "      <td>12:01pm</td>\n",
       "      <td>8</td>\n",
       "      <td>*</td>\n",
       "      <td>False</td>\n",
       "      <td>False</td>\n",
       "      <td>False</td>\n",
       "      <td>False</td>\n",
       "      <td>11:01:08 am</td>\n",
       "    </tr>\n",
       "    <tr>\n",
       "      <th>3</th>\n",
       "      <td>E1</td>\n",
       "      <td>COMM'L-BDWAY STN</td>\n",
       "      <td>12:05pm</td>\n",
       "      <td>12</td>\n",
       "      <td>*</td>\n",
       "      <td>False</td>\n",
       "      <td>False</td>\n",
       "      <td>False</td>\n",
       "      <td>False</td>\n",
       "      <td>11:05:25 am</td>\n",
       "    </tr>\n",
       "    <tr>\n",
       "      <th>4</th>\n",
       "      <td>E1</td>\n",
       "      <td>COMM'L-BDWAY STN</td>\n",
       "      <td>12:10pm</td>\n",
       "      <td>17</td>\n",
       "      <td>*</td>\n",
       "      <td>False</td>\n",
       "      <td>False</td>\n",
       "      <td>False</td>\n",
       "      <td>False</td>\n",
       "      <td>11:10:32 am</td>\n",
       "    </tr>\n",
       "    <tr>\n",
       "      <th>5</th>\n",
       "      <td>E1</td>\n",
       "      <td>COMM'L-BDWAY STN</td>\n",
       "      <td>12:14pm</td>\n",
       "      <td>21</td>\n",
       "      <td>*</td>\n",
       "      <td>False</td>\n",
       "      <td>False</td>\n",
       "      <td>False</td>\n",
       "      <td>False</td>\n",
       "      <td>11:14:01 am</td>\n",
       "    </tr>\n",
       "  </tbody>\n",
       "</table>\n",
       "</div>"
      ],
      "text/plain": [
       "  Pattern       Destination ExpectedLeaveTime  ExpectedCountdown  \\\n",
       "0      E1  COMM'L-BDWAY STN           11:52am                 -1   \n",
       "1      E1  COMM'L-BDWAY STN           11:56am                  3   \n",
       "2      E1  COMM'L-BDWAY STN           12:01pm                  8   \n",
       "3      E1  COMM'L-BDWAY STN           12:05pm                 12   \n",
       "4      E1  COMM'L-BDWAY STN           12:10pm                 17   \n",
       "5      E1  COMM'L-BDWAY STN           12:14pm                 21   \n",
       "\n",
       "  ScheduleStatus  CancelledTrip  CancelledStop  AddedTrip  AddedStop  \\\n",
       "0                         False          False      False      False   \n",
       "1              *          False          False      False      False   \n",
       "2              *          False          False      False      False   \n",
       "3              *          False          False      False      False   \n",
       "4              *          False          False      False      False   \n",
       "5              *          False          False      False      False   \n",
       "\n",
       "    LastUpdate  \n",
       "0  10:52:07 am  \n",
       "1  10:56:02 am  \n",
       "2  11:01:08 am  \n",
       "3  11:05:25 am  \n",
       "4  11:10:32 am  \n",
       "5  11:14:01 am  "
      ]
     },
     "execution_count": 9,
     "metadata": {},
     "output_type": "execute_result"
    }
   ],
   "source": [
    "pd.DataFrame.from_records(response_json['Schedules'])"
   ]
  },
  {
   "cell_type": "code",
   "execution_count": 19,
   "metadata": {},
   "outputs": [
    {
     "data": {
      "text/plain": [
       "dict_keys(['StopNo', 'Name', 'BayNo', 'City', 'OnStreet', 'AtStreet', 'Latitude', 'Longitude', 'WheelchairAccess', 'Distance', 'Routes'])"
      ]
     },
     "execution_count": 19,
     "metadata": {},
     "output_type": "execute_result"
    }
   ],
   "source": [
    "\n",
    "response_json_simple.keys()"
   ]
  },
  {
   "cell_type": "code",
   "execution_count": 24,
   "metadata": {},
   "outputs": [
    {
     "data": {
      "text/plain": [
       "dict_keys"
      ]
     },
     "execution_count": 24,
     "metadata": {},
     "output_type": "execute_result"
    }
   ],
   "source": [
    "type(response_json_simple.keys())"
   ]
  },
  {
   "cell_type": "code",
   "execution_count": 25,
   "metadata": {},
   "outputs": [
    {
     "data": {
      "text/plain": [
       "['StopNo',\n",
       " 'Name',\n",
       " 'BayNo',\n",
       " 'City',\n",
       " 'OnStreet',\n",
       " 'AtStreet',\n",
       " 'Latitude',\n",
       " 'Longitude',\n",
       " 'WheelchairAccess',\n",
       " 'Distance',\n",
       " 'Routes']"
      ]
     },
     "execution_count": 25,
     "metadata": {},
     "output_type": "execute_result"
    }
   ],
   "source": [
    "list(response_json_simple.keys())"
   ]
  },
  {
   "cell_type": "code",
   "execution_count": 26,
   "metadata": {},
   "outputs": [
    {
     "data": {
      "text/plain": [
       "list"
      ]
     },
     "execution_count": 26,
     "metadata": {},
     "output_type": "execute_result"
    }
   ],
   "source": [
    "type(list(response_json_simple.keys()))"
   ]
  },
  {
   "cell_type": "code",
   "execution_count": 23,
   "metadata": {},
   "outputs": [
    {
     "data": {
      "text/html": [
       "<div>\n",
       "<style scoped>\n",
       "    .dataframe tbody tr th:only-of-type {\n",
       "        vertical-align: middle;\n",
       "    }\n",
       "\n",
       "    .dataframe tbody tr th {\n",
       "        vertical-align: top;\n",
       "    }\n",
       "\n",
       "    .dataframe thead th {\n",
       "        text-align: right;\n",
       "    }\n",
       "</style>\n",
       "<table border=\"1\" class=\"dataframe\">\n",
       "  <thead>\n",
       "    <tr style=\"text-align: right;\">\n",
       "      <th></th>\n",
       "      <th>StopNo</th>\n",
       "      <th>Name</th>\n",
       "      <th>BayNo</th>\n",
       "      <th>City</th>\n",
       "      <th>OnStreet</th>\n",
       "      <th>AtStreet</th>\n",
       "      <th>Latitude</th>\n",
       "      <th>Longitude</th>\n",
       "      <th>WheelchairAccess</th>\n",
       "      <th>Distance</th>\n",
       "      <th>Routes</th>\n",
       "    </tr>\n",
       "  </thead>\n",
       "  <tbody>\n",
       "    <tr>\n",
       "      <th>0</th>\n",
       "      <td>50624</td>\n",
       "      <td>WB ROBSON ST FS BURRARD ST</td>\n",
       "      <td>N</td>\n",
       "      <td>VANCOUVER</td>\n",
       "      <td>ROBSON ST</td>\n",
       "      <td>BURRARD ST</td>\n",
       "      <td>49.283556</td>\n",
       "      <td>-123.123086</td>\n",
       "      <td>1</td>\n",
       "      <td>-1</td>\n",
       "      <td>005</td>\n",
       "    </tr>\n",
       "  </tbody>\n",
       "</table>\n",
       "</div>"
      ],
      "text/plain": [
       "   StopNo                        Name BayNo       City   OnStreet    AtStreet  \\\n",
       "0   50624  WB ROBSON ST FS BURRARD ST     N  VANCOUVER  ROBSON ST  BURRARD ST   \n",
       "\n",
       "    Latitude   Longitude  WheelchairAccess  Distance Routes  \n",
       "0  49.283556 -123.123086                 1        -1    005  "
      ]
     },
     "execution_count": 23,
     "metadata": {},
     "output_type": "execute_result"
    }
   ],
   "source": [
    "pd.DataFrame(response_json_simple, index = range(1))"
   ]
  },
  {
   "cell_type": "code",
   "execution_count": null,
   "metadata": {},
   "outputs": [],
   "source": []
  }
 ],
 "metadata": {
  "kernelspec": {
   "display_name": "Python 3",
   "language": "python",
   "name": "python3"
  },
  "language_info": {
   "codemirror_mode": {
    "name": "ipython",
    "version": 3
   },
   "file_extension": ".py",
   "mimetype": "text/x-python",
   "name": "python",
   "nbconvert_exporter": "python",
   "pygments_lexer": "ipython3",
   "version": "3.8.3"
  }
 },
 "nbformat": 4,
 "nbformat_minor": 4
}
